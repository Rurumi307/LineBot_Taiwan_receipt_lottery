{
 "cells": [
  {
   "cell_type": "markdown",
   "metadata": {
    "id": "FTMrbqU08eUR"
   },
   "source": [
    "# 操作Imgur API\n",
    "以imgur的pythonAPI操作圖片上傳、下載動作。\n",
    "- 官方git:   https://github.com/Imgur/imgurpython"
   ]
  },
  {
   "cell_type": "markdown",
   "metadata": {
    "id": "75bONGNHjFfc"
   },
   "source": [
    "## 建立帳戶取得所需Client ID及Client secret\n"
   ]
  },
  {
   "cell_type": "markdown",
   "metadata": {
    "id": "Lvo1EHGOjmc-"
   },
   "source": [
    "Client ID及Client secret需在https://api.imgur.com/oauth2/addclient https://api.imgur.com/oauth2/addclient 操作取得，以下為您會取得的內容。\n",
    "\n",
    "- Client Name :\"XXXXXXXXXXXXXXXX\"\n",
    "- Client ID  :\"XXXXXXXXXXXXXXXX\"\n",
    "- Client Secret:\"XXXXXXXXXXXXXXXX\""
   ]
  },
  {
   "cell_type": "markdown",
   "metadata": {
    "id": "fqmAio0Ajz0j"
   },
   "source": [
    "## 使用 imgurpython 測試連線"
   ]
  },
  {
   "cell_type": "code",
   "execution_count": null,
   "metadata": {
    "id": "1mpkLCrLcvEO"
   },
   "outputs": [],
   "source": [
    "#1. 安裝模組\n",
    "!pip install imgurpython > log.txt"
   ]
  },
  {
   "cell_type": "code",
   "execution_count": null,
   "metadata": {
    "id": "NO6P1Dz0czDb"
   },
   "outputs": [],
   "source": [
    "#測試1-透過API列出圖片列表\n",
    "from imgurpython import ImgurClient\n",
    "\n",
    "client_id ='YOUR CLIENT ID'\n",
    "client_secret = 'YOUR CLIENT SECRET'\n",
    "\n",
    "client = ImgurClient(client_id, client_secret)\n",
    "\n",
    "# Example request\n",
    "items = client.gallery()\n",
    "for item in items:\n",
    "    print(item.link)"
   ]
  },
  {
   "cell_type": "code",
   "execution_count": null,
   "metadata": {
    "id": "JdmhOG2wlH8O"
   },
   "outputs": [],
   "source": [
    "#取得token，方便日後減少pin使用\n",
    "#client = ImgurClient(client_id, client_secret, access_token, refresh_token)\n",
    "\n",
    "from imgurpython import ImgurClient\n",
    "\n",
    "client_id = 'YOUR CLIENT ID'\n",
    "client_secret = 'YOUR CLIENT SECRET'\n",
    "\n",
    "\n",
    "def get_input(string):\n",
    "    return input(string)\n",
    "\n",
    "\n",
    "def authenticate():\n",
    "    # Get client ID and secret from config.py\n",
    "    client = ImgurClient(client_id, client_secret)\n",
    "\n",
    "    # Authorization flow, pin example (see docs for other auth types)\n",
    "    authorization_url = client.get_auth_url('pin')\n",
    "\n",
    "    print(f\"Go to the following URL: {authorization_url}\")\n",
    "\n",
    "    # Read in the pin, handle Python 2 or 3 here.\n",
    "    pin = get_input(\"Enter pin code: \")\n",
    "\n",
    "    # ... redirect user to `authorization_url`, obtain pin (or code or token) ...\n",
    "    credentials = client.authorize(pin, 'pin')\n",
    "    client.set_user_auth(credentials['access_token'], credentials['refresh_token'])\n",
    "\n",
    "    print(\"Authentication successful! Here are the details:\")\n",
    "    print(f\"   Access token:  {credentials['access_token']}\")\n",
    "    print(f\"   Refresh token: {credentials['refresh_token']}\")\n",
    "    auth_tokens = {\" Access token\": credentials['access_token'],\n",
    "                   \" Refresh token\": credentials['refresh_token']}\n",
    "\n",
    "    return client, auth_tokens\n",
    "\n",
    "\n",
    "# If you want to run this as a standalone script, so be it!\n",
    "if __name__ == \"__main__\":\n",
    "     client , auth_token = authenticate()\n",
    "     access_token = auth_token[\" Access token\"]\n",
    "     refresh_token = auth_token[\" Refresh token\"]\n"
   ]
  },
  {
   "cell_type": "code",
   "execution_count": null,
   "metadata": {
    "id": "I4Dbjd7Q9iDV"
   },
   "outputs": [],
   "source": [
    "#先下載一張測試圖片\n",
    "!wget -O test.jpg https://i.imgur.com/qs1mqDf.png"
   ]
  },
  {
   "cell_type": "code",
   "execution_count": null,
   "metadata": {
    "id": "ibbo_-g04VaH"
   },
   "outputs": [],
   "source": [
    "#上傳圖片，修改自官方Example\n",
    "from imgurpython import ImgurClient\n",
    "from datetime import datetime\n",
    "\n",
    "\n",
    "def upload(client_data, local_img_file, album , name = 'test-name!' ,title = 'test-title' ):\n",
    "    config = {\n",
    "        'album':  album,\n",
    "        'name': name,\n",
    "        'title': title,\n",
    "        'description': f'test-{datetime.now()}'\n",
    "    }\n",
    "\n",
    "    print(\"Uploading image... \")\n",
    "    image = client_data.upload_from_path(local_img_file, config=config, anon=False)\n",
    "    print(\"Done\")\n",
    "\n",
    "    return image\n",
    "\n",
    "\n",
    "if __name__ == \"__main__\":\n",
    "    client_id ='YOUR CLIENT ID'\n",
    "    client_secret = 'YOUR CLIENT SECRET'\n",
    "    access_token = \"YOUR ACCESS TOKEN\"\n",
    "    refresh_token = \"YOUR REFRESH TOKEN\"\n",
    "    album = \"YOUR ALBUM ID\"\n",
    "    local_img_file = \"test.jpg\"\n",
    "    \n",
    "    client = ImgurClient(client_id, client_secret, access_token, refresh_token)\n",
    "    image = upload(client, local_img_file, album)\n",
    "    print(f\"圖片網址: {image['link']}\")"
   ]
  },
  {
   "cell_type": "code",
   "execution_count": null,
   "metadata": {
    "id": "QQYH1UzsDzRi"
   },
   "outputs": [],
   "source": [
    "image"
   ]
  },
  {
   "cell_type": "markdown",
   "metadata": {
    "id": "e0RN0NCUVz1G"
   },
   "source": [
    "## 使用 pyimgur 操作圖床\n"
   ]
  },
  {
   "cell_type": "code",
   "execution_count": null,
   "metadata": {
    "id": "xrlBZXCqVWCh"
   },
   "outputs": [],
   "source": [
    "!pip install pyimgur"
   ]
  },
  {
   "cell_type": "code",
   "execution_count": null,
   "metadata": {
    "id": "d5lSJb8oLGad"
   },
   "outputs": [],
   "source": [
    "#顯示在imgur的圖片\n",
    "import pyimgur\n",
    "\n",
    "CLIENT_ID = \"Your_applications_client_id\"\n",
    "im = pyimgur.Imgur(CLIENT_ID)\n",
    "image = im.get_image('f1WHMuW') #測試用\n",
    "\n",
    "print(image.title) \n",
    "print(image.link)\n",
    "\n",
    "from IPython.display import Image\n",
    "from IPython.core.display import HTML \n",
    "\n",
    "#顯示本機圖片\n",
    "Image(\"image.link\")  "
   ]
  },
  {
   "cell_type": "code",
   "execution_count": null,
   "metadata": {
    "id": "dgm6Jg-_L2i2"
   },
   "outputs": [],
   "source": [
    "#上傳圖片\n",
    "import pyimgur\n",
    "\n",
    "CLIENT_ID = \"Your_applications_client_id\"\n",
    "PATH = \"test.jpg\" #A Filepath to an image on your computer\"\n",
    "\n",
    "im = pyimgur.Imgur(CLIENT_ID)\n",
    "uploaded_image = im.upload_image(PATH, title=\"Uploaded with PyImgur\")\n",
    "print(uploaded_image.title)\n",
    "print(uploaded_image.link)\n",
    "print(uploaded_image.type)"
   ]
  }
 ],
 "metadata": {
  "colab": {
   "collapsed_sections": [
    "75bONGNHjFfc",
    "fqmAio0Ajz0j",
    "e0RN0NCUVz1G"
   ],
   "name": "imgur圖床操作.ipynb",
   "provenance": [
    {
     "file_id": "1suinqGxs5VjBLCPEltbu4gDxNrZCvinV",
     "timestamp": 1600654831487
    }
   ],
   "toc_visible": true
  },
  "kernelspec": {
   "display_name": "Python 3",
   "language": "python",
   "name": "python3"
  },
  "language_info": {
   "codemirror_mode": {
    "name": "ipython",
    "version": 3
   },
   "file_extension": ".py",
   "mimetype": "text/x-python",
   "name": "python",
   "nbconvert_exporter": "python",
   "pygments_lexer": "ipython3",
   "version": "3.8.10"
  }
 },
 "nbformat": 4,
 "nbformat_minor": 1
}
