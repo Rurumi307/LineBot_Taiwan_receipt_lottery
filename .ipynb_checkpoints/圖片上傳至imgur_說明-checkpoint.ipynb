{
 "cells": [
  {
   "cell_type": "markdown",
   "metadata": {},
   "source": [
    "### 安裝 imgurpython 才可以使用官方的api"
   ]
  },
  {
   "cell_type": "code",
   "execution_count": 3,
   "metadata": {},
   "outputs": [],
   "source": [
    "# !pip install imgurpython"
   ]
  },
  {
   "cell_type": "markdown",
   "metadata": {},
   "source": [
    "### 官方文件 : https://api.imgur.com/\n",
    "### 一些指令 : https://github.com/Imgur/imgurpython\n",
    "### imgur官網 : https://imgur.com/\n",
    "### 參考網站: \n",
    "- https://ithelp.ithome.com.tw/articles/10241006\n",
    "- https://github.com/twtrubiks/line-bot-imgur-tutorial/blob/master/app.py\n"
   ]
  },
  {
   "cell_type": "markdown",
   "metadata": {},
   "source": [
    "### --------------------------------------------------------------------------------------------------------------------------------------------------------"
   ]
  },
  {
   "cell_type": "markdown",
   "metadata": {},
   "source": [
    "### client_id、client_secret 在imgur網站就可以取得"
   ]
  },
  {
   "cell_type": "markdown",
   "metadata": {},
   "source": [
    "### 在建立帳號密碼的時候，會告訴你client_id、client_secret\n",
    "### 如果當時沒有記下來，可以使用以下步驟找到client_id，並重新取得一個新的client_secret"
   ]
  },
  {
   "cell_type": "markdown",
   "metadata": {},
   "source": [
    "### 進入官網首頁登入帳號後，點選右上角圓圈圈的圖，並點選setting"
   ]
  },
  {
   "cell_type": "markdown",
   "metadata": {},
   "source": [
    "![title](首頁.png)"
   ]
  },
  {
   "cell_type": "markdown",
   "metadata": {},
   "source": [
    "### 接下來點選Applications\n",
    "### 會顯示你使用帳號的Client ID\n",
    "### 由於不會顯示Client Secret，因此重新取得即可"
   ]
  },
  {
   "cell_type": "markdown",
   "metadata": {},
   "source": [
    "![title](client_id&secret.png)"
   ]
  },
  {
   "cell_type": "markdown",
   "metadata": {},
   "source": [
    "### 取得client_id、client_secret後，測試連線是否正常"
   ]
  },
  {
   "cell_type": "code",
   "execution_count": 4,
   "metadata": {},
   "outputs": [
    {
     "name": "stdout",
     "output_type": "stream",
     "text": [
      "https://imgur.com/a/PBfXuMd\n",
      "https://imgur.com/a/LLXjQP9\n",
      "https://imgur.com/a/Pwyfm3U\n",
      "https://imgur.com/a/IffUyYb\n",
      "https://imgur.com/a/0Pzj2Je\n",
      "https://imgur.com/a/th0UVf1\n",
      "https://imgur.com/a/KubDq3F\n",
      "https://imgur.com/a/xVC7Gpb\n",
      "https://imgur.com/a/MWIqCyR\n",
      "https://imgur.com/a/iVbLtzo\n",
      "https://imgur.com/a/9PduSQl\n",
      "https://i.imgur.com/yEIeJcu.jpg\n",
      "https://imgur.com/a/14BL0l8\n",
      "https://imgur.com/a/xihRN7x\n",
      "https://imgur.com/a/Z27LtOg\n",
      "https://imgur.com/a/e6Y9NMa\n",
      "https://i.imgur.com/RCZlM9G.png\n",
      "https://imgur.com/a/dDwISCp\n",
      "https://imgur.com/a/Mj7jfUU\n",
      "https://imgur.com/a/ylYt0tL\n",
      "https://imgur.com/a/XcHHSq5\n",
      "https://i.imgur.com/eG68wwr.png\n",
      "https://imgur.com/a/Tn6M7oK\n",
      "https://imgur.com/a/mIxl7Hk\n",
      "https://imgur.com/a/Gwm5373\n",
      "https://imgur.com/a/4uAlBNm\n",
      "https://imgur.com/a/IwdPlE1\n",
      "https://i.imgur.com/o2CDDyu.mp4\n",
      "https://imgur.com/a/LyiBPC8\n",
      "https://i.imgur.com/4so04Ai.jpg\n",
      "https://imgur.com/a/ITC0T1v\n",
      "https://imgur.com/a/P3Dr6Nf\n",
      "https://imgur.com/a/NZGBqW7\n",
      "https://imgur.com/a/9szbAXN\n",
      "https://imgur.com/a/RhXc5f3\n",
      "https://imgur.com/a/bNN101j\n",
      "https://imgur.com/a/oBWBApW\n",
      "https://imgur.com/a/LYXyaSA\n",
      "https://imgur.com/a/9W45oHz\n",
      "https://imgur.com/a/etMCBcE\n",
      "https://imgur.com/a/MlzdJZN\n",
      "https://imgur.com/a/mth7Uc0\n",
      "https://imgur.com/a/HqmJYUb\n",
      "https://imgur.com/a/sgP1mnN\n",
      "https://imgur.com/a/wP6iPNi\n",
      "https://imgur.com/a/ztmdK7A\n",
      "https://imgur.com/a/OS07HNH\n",
      "https://imgur.com/a/VK7rMem\n",
      "https://imgur.com/a/5gEPoml\n",
      "https://imgur.com/a/Fxi3sDW\n",
      "https://i.imgur.com/KWmkU33.png\n",
      "https://i.imgur.com/zfUUg6p.jpg\n",
      "https://imgur.com/a/arOiwvG\n",
      "https://imgur.com/a/RvT2fyn\n",
      "https://imgur.com/a/lBvlZRJ\n",
      "https://imgur.com/a/rgQelsb\n",
      "https://imgur.com/a/q3N48sB\n",
      "https://imgur.com/a/lgob5sM\n",
      "https://imgur.com/a/wIcvE4E\n",
      "https://imgur.com/a/4w9VSXF\n"
     ]
    }
   ],
   "source": [
    "from imgurpython import ImgurClient\n",
    "\n",
    "client_id = 'd34c36bd6ca00d1'\n",
    "client_secret = '1b70ef11a4a3b10390b4ed5a6593b66cf8692ca7'\n",
    "\n",
    "client = ImgurClient(client_id, client_secret)\n",
    "\n",
    "# Example request\n",
    "items = client.gallery()\n",
    "for item in items:\n",
    "    print(item.link)"
   ]
  },
  {
   "cell_type": "markdown",
   "metadata": {},
   "source": [
    "### 要把圖片上傳至 imgur，需要先取得client_id、client_secret、access_token、refresh_token\n",
    "### access_token 及 refresh_token 必須透過下方程式取得"
   ]
  },
  {
   "cell_type": "markdown",
   "metadata": {},
   "source": [
    "### 首先建立連線"
   ]
  },
  {
   "cell_type": "code",
   "execution_count": 5,
   "metadata": {},
   "outputs": [],
   "source": [
    "from imgurpython import ImgurClient\n",
    "\n",
    "# 先輸入 client_id及 client_secret (imgur網站查)\n",
    "client_id = 'd34c36bd6ca00d1'\n",
    "client_secret = '1b70ef11a4a3b10390b4ed5a6593b66cf8692ca7'\n",
    "\n",
    "client = ImgurClient(client_id, client_secret)"
   ]
  },
  {
   "cell_type": "markdown",
   "metadata": {},
   "source": [
    "### 利用 client.get_auth_url('pin') 取得一串用來認證的網址"
   ]
  },
  {
   "cell_type": "code",
   "execution_count": 6,
   "metadata": {},
   "outputs": [
    {
     "name": "stdout",
     "output_type": "stream",
     "text": [
      "https://api.imgur.com/oauth2/authorize?client_id=d34c36bd6ca00d1&response_type=pin\n"
     ]
    }
   ],
   "source": [
    "# Authorization flow, pin example (see docs for other auth types)\n",
    "authorization_url = client.get_auth_url('pin')\n",
    "print(authorization_url)"
   ]
  },
  {
   "cell_type": "markdown",
   "metadata": {},
   "source": [
    "### 把取得的網址丟到瀏覽器，會跑到授權的頁面"
   ]
  },
  {
   "cell_type": "markdown",
   "metadata": {},
   "source": [
    "![title](test1.png)"
   ]
  },
  {
   "cell_type": "markdown",
   "metadata": {},
   "source": [
    "### 點選allow後，會取得一串PIN碼"
   ]
  },
  {
   "cell_type": "markdown",
   "metadata": {},
   "source": [
    "![title](test2.png)"
   ]
  },
  {
   "cell_type": "markdown",
   "metadata": {},
   "source": [
    "### 取的pin碼後，利用client.authorize('pin 碼') 取得access_token及refresh_token\n",
    "- pin 碼 run過code後，就會失效。\n",
    "- 如果再執行一次會發生error"
   ]
  },
  {
   "cell_type": "code",
   "execution_count": 7,
   "metadata": {},
   "outputs": [
    {
     "data": {
      "text/plain": [
       "{'access_token': '3e0254d3c70f48cfa96540db87744e0eaf99c7e4',\n",
       " 'expires_in': 315360000,\n",
       " 'token_type': 'bearer',\n",
       " 'scope': None,\n",
       " 'refresh_token': '0f964c02bc478dba295c82821b3b3932eddbe436',\n",
       " 'account_id': 151539984,\n",
       " 'account_username': 'sala0307'}"
      ]
     },
     "execution_count": 7,
     "metadata": {},
     "output_type": "execute_result"
    }
   ],
   "source": [
    "# ... redirect user to `authorization_url`, obtain pin (or code or token) ...\n",
    "credentials = client.authorize('a57e3864dc')\n",
    "credentials"
   ]
  },
  {
   "cell_type": "code",
   "execution_count": null,
   "metadata": {},
   "outputs": [],
   "source": [
    "#client.set_user_auth(credentials['access_token'], credentials['refresh_token'])"
   ]
  },
  {
   "cell_type": "markdown",
   "metadata": {},
   "source": [
    "### 取得我們要的資訊後，再次建立連線\n",
    "### 由於取得access_token及refresh_token的步驟，只需要跑過一次即可\n",
    "### 因此，如果已取得access_token及refresh_token，直接從這邊開始執行即可"
   ]
  },
  {
   "cell_type": "code",
   "execution_count": 8,
   "metadata": {},
   "outputs": [],
   "source": [
    "from imgurpython import ImgurClient\n",
    "\n",
    "# If you already have an access/refresh pair in hand\n",
    "client_id = 'd34c36bd6ca00d1'\n",
    "client_secret = '1b70ef11a4a3b10390b4ed5a6593b66cf8692ca7'\n",
    "access_token = \"3e0254d3c70f48cfa96540db87744e0eaf99c7e4\"\n",
    "refresh_token = \"0f964c02bc478dba295c82821b3b3932eddbe436\"\n",
    "\n",
    "# Note since access tokens expire after an hour, only the refresh token is required (library handles autorefresh)\n",
    "client = ImgurClient(client_id, client_secret, access_token, refresh_token)"
   ]
  },
  {
   "cell_type": "markdown",
   "metadata": {},
   "source": [
    "### 建立連線後，就要開始把圖片檔upload到imgur網站上去\n",
    "### 首先先建立一個config的dictionary\n",
    "- 其中album的 value 是在imgur中建立相簿的 album id\n",
    "- name的value 是指在imgur中建立相簿的名稱\n",
    "- title及description 可以是任意字串"
   ]
  },
  {
   "cell_type": "markdown",
   "metadata": {},
   "source": [
    "### album id的查詢方法"
   ]
  },
  {
   "cell_type": "markdown",
   "metadata": {},
   "source": [
    "### 點選Images"
   ]
  },
  {
   "cell_type": "markdown",
   "metadata": {},
   "source": [
    "![title](image_1.png)"
   ]
  },
  {
   "cell_type": "markdown",
   "metadata": {},
   "source": [
    "### 點選All images，並選取你之後要用的相簿"
   ]
  },
  {
   "cell_type": "markdown",
   "metadata": {},
   "source": [
    "![title](image_2.png)"
   ]
  },
  {
   "cell_type": "markdown",
   "metadata": {},
   "source": [
    "### 進入相簿後，點選Edit this album，並點選Embed Album"
   ]
  },
  {
   "cell_type": "markdown",
   "metadata": {},
   "source": [
    "![title](image_3.png)"
   ]
  },
  {
   "cell_type": "markdown",
   "metadata": {},
   "source": [
    "### 點選後會跑出Embed Code\n",
    "### Album_id 就在 data-id = \"a/xxxxxx\"，我們只需要取xxxxx的部分\n",
    "```<blockquote class=\"imgur-embed-pub\" lang=\"en\" data-id=\"a/oF7bJxd\"><a href=\"//imgur.com/a/oF7bJxd\">View post on imgur.com</a></blockquote><script async src=\"//s.imgur.com/min/embed.js\" charset=\"utf-8\"></script>```"
   ]
  },
  {
   "cell_type": "markdown",
   "metadata": {},
   "source": [
    "![title](image_4.png)"
   ]
  },
  {
   "cell_type": "markdown",
   "metadata": {},
   "source": [
    "### 建立完config後，利用client.upload_from_path('要上傳的檔案路徑',config,anon=False)"
   ]
  },
  {
   "cell_type": "code",
   "execution_count": 15,
   "metadata": {},
   "outputs": [
    {
     "data": {
      "text/plain": [
       "{'id': 'h0Yu2bL',\n",
       " 'deletehash': 'BOAYDJ68sItTySE',\n",
       " 'account_id': 151530816,\n",
       " 'account_url': 'tfb102',\n",
       " 'ad_type': None,\n",
       " 'ad_url': None,\n",
       " 'title': '123132',\n",
       " 'description': 'test-2021-06-30 21:28:16.810787',\n",
       " 'name': 'tfb102_project',\n",
       " 'type': 'image/png',\n",
       " 'width': 370,\n",
       " 'height': 347,\n",
       " 'size': 28552,\n",
       " 'views': 0,\n",
       " 'section': None,\n",
       " 'vote': None,\n",
       " 'bandwidth': 0,\n",
       " 'animated': False,\n",
       " 'favorite': False,\n",
       " 'in_gallery': False,\n",
       " 'in_most_viral': False,\n",
       " 'has_sound': False,\n",
       " 'is_ad': False,\n",
       " 'nsfw': None,\n",
       " 'link': 'https://i.imgur.com/h0Yu2bL.png',\n",
       " 'tags': [],\n",
       " 'datetime': 1625059699,\n",
       " 'mp4': '',\n",
       " 'hls': ''}"
      ]
     },
     "execution_count": 15,
     "metadata": {},
     "output_type": "execute_result"
    }
   ],
   "source": [
    "from datetime import datetime\n",
    "config = {\n",
    "        'album': \"a/oF7bJxd\",\n",
    "        'name': 'tfb102_project',\n",
    "        'title': '123132',\n",
    "        'description': f'test-{datetime.now()}'\n",
    "    }\n",
    "#client.album_add_images('NCnoMLS', 'https://i.imgur.com/sfHi8QK.png')\n",
    "client.upload_from_path('test.jpg', config=config, anon=False)"
   ]
  },
  {
   "cell_type": "markdown",
   "metadata": {},
   "source": [
    "### 還沒寫function，忽略"
   ]
  },
  {
   "cell_type": "code",
   "execution_count": null,
   "metadata": {},
   "outputs": [],
   "source": [
    "#上傳圖片，修改自官方Example\n",
    "from imgurpython import ImgurClient\n",
    "from datetime import datetime\n",
    "\n",
    "\n",
    "def upload(client_data, album , name = 'test-name!' ,title = 'test-title' ):\n",
    "    config = {\n",
    "        'album':  album,\n",
    "        'name': name,\n",
    "        'title': title,\n",
    "        'description': f'test-{datetime.now()}'\n",
    "    }\n",
    "\n",
    "    print(\"Uploading image... \")\n",
    "    image = client_data.upload_from_path('test.jpg', config=config, anon=False)\n",
    "    print(\"Done\")\n",
    "\n",
    "    return image\n",
    "\n",
    "\n",
    "if __name__ == \"__main__\":\n",
    "    client_id ='c4e692f0b51a5e5'\n",
    "    client_secret = '68d9924732679e755b62afe07667b52f557c4545'\n",
    "    access_token = \"58b6fd480fed3ee78a6ead0805e18bb84d9be3b2\"\n",
    "    refresh_token = \"313439c656aee756fc361a5e5ac6db036fda5ea6\"\n",
    "    album = \"NCnoMLS\"\n",
    "    local_img_file = \"test.jpg\"\n",
    "\n",
    "    client = ImgurClient(client_id, client_secret, access_token, refresh_token)\n",
    "    image = upload(client, local_img_file, album)\n",
    "    #print(f\"圖片網址: {image['link']}\")"
   ]
  }
 ],
 "metadata": {
  "kernelspec": {
   "display_name": "Python 3",
   "language": "python",
   "name": "python3"
  },
  "language_info": {
   "codemirror_mode": {
    "name": "ipython",
    "version": 3
   },
   "file_extension": ".py",
   "mimetype": "text/x-python",
   "name": "python",
   "nbconvert_exporter": "python",
   "pygments_lexer": "ipython3",
   "version": "3.8.5"
  }
 },
 "nbformat": 4,
 "nbformat_minor": 5
}
